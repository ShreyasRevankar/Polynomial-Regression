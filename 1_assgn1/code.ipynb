{
 "cells": [
  {
   "cell_type": "code",
   "execution_count": 10,
   "metadata": {},
   "outputs": [],
   "source": [
    "import numpy as np\n",
    "import matplotlib.pyplot as plt\n",
    "import pandas as pd\n",
    "import pickle5 as pickle\n",
    "from sklearn.linear_model import LinearRegression\n",
    "from sklearn.preprocessing import PolynomialFeatures\n",
    "import random"
   ]
  },
  {
   "cell_type": "code",
   "execution_count": 115,
   "metadata": {},
   "outputs": [],
   "source": [
    "# Task 2.2.1 - How to Re-sample the Data\n",
    "train_sets_X = []\n",
    "train_sets_Y = []\n",
    "with open('../data/train.pkl', 'rb') as f:\n",
    "    data = pickle.load(f)\n",
    "    np.random.shuffle(data)\n",
    "    # divide data into 16 sets\n",
    "    for i in range(16):\n",
    "        train_sets_X.append(data[i*50:(i+1)*50][:,0])\n",
    "        train_sets_Y.append(data[i*50:(i+1)*50][:,1])\n",
    "\n",
    "train_sets_X = np.array(train_sets_X)\n",
    "    "
   ]
  },
  {
   "cell_type": "code",
   "execution_count": 116,
   "metadata": {},
   "outputs": [
    {
     "name": "stdout",
     "output_type": "stream",
     "text": [
      "(50, 16)\n",
      "(50, 16)\n",
      "(50, 16)\n",
      "(50, 16)\n",
      "(50, 16)\n",
      "(50, 16)\n",
      "(50, 16)\n",
      "(50, 16)\n",
      "(50, 16)\n",
      "(50, 16)\n",
      "(50, 16)\n",
      "(50, 16)\n",
      "(50, 16)\n",
      "(50, 16)\n",
      "(50, 16)\n",
      "(50, 16)\n"
     ]
    }
   ],
   "source": [
    "poly = PolynomialFeatures(degree=15)\n",
    "train_sets_X_poly = []\n",
    "for row in train_sets_X:\n",
    "    row = row.reshape(-1,1)\n",
    "    new_row = poly.fit_transform(row)\n",
    "    train_sets_X_poly.append(new_row)\n",
    "    print(new_row.shape)\n",
    "x_poly = poly.fit_transform(train_sets_X[0].reshape(-1,1))\n",
    "train_sets_X_poly = np.array(train_sets_X_poly)\n",
    "# print(train_sets_X.shape, x_poly.shape)\n",
    "# x_poly"
   ]
  },
  {
   "cell_type": "code",
   "execution_count": 117,
   "metadata": {},
   "outputs": [
    {
     "data": {
      "text/plain": [
       "(16, 50, 16)"
      ]
     },
     "execution_count": 117,
     "metadata": {},
     "output_type": "execute_result"
    }
   ],
   "source": [
    "train_sets_X_poly.shape"
   ]
  },
  {
   "cell_type": "code",
   "execution_count": null,
   "metadata": {},
   "outputs": [],
   "source": []
  }
 ],
 "metadata": {
  "interpreter": {
   "hash": "ac2eaa0ea0ebeafcc7822e65e46aa9d4f966f30b695406963e145ea4a91cd4fc"
  },
  "kernelspec": {
   "display_name": "Python 3.9.6 64-bit",
   "language": "python",
   "name": "python3"
  },
  "language_info": {
   "codemirror_mode": {
    "name": "ipython",
    "version": 3
   },
   "file_extension": ".py",
   "mimetype": "text/x-python",
   "name": "python",
   "nbconvert_exporter": "python",
   "pygments_lexer": "ipython3",
   "version": "3.9.6"
  },
  "orig_nbformat": 4
 },
 "nbformat": 4,
 "nbformat_minor": 2
}
